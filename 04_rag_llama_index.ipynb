{
 "cells": [
  {
   "cell_type": "markdown",
   "id": "c05111d6-2959-4ac7-be19-f6027de7d295",
   "metadata": {},
   "source": [
    "This tutorial demonstrates how to create a standard retriever using LlamaIndex with the Groq API and HuggingFace's embedding capabilities. By following these steps, you'll be able to build a simple RAG chatbot."
   ]
  },
  {
   "cell_type": "markdown",
   "id": "3ad3fd45-20df-4865-a21e-b453bf943b12",
   "metadata": {},
   "source": [
    "### Install the necessary requirements"
   ]
  },
  {
   "cell_type": "code",
   "execution_count": 1,
   "id": "bb986210-6f65-4ba2-af30-4b5af8d97062",
   "metadata": {},
   "outputs": [
    {
     "name": "stdout",
     "output_type": "stream",
     "text": [
      "\n",
      "\u001b[1m[\u001b[0m\u001b[34;49mnotice\u001b[0m\u001b[1;39;49m]\u001b[0m\u001b[39;49m A new release of pip is available: \u001b[0m\u001b[31;49m23.2.1\u001b[0m\u001b[39;49m -> \u001b[0m\u001b[32;49m24.0\u001b[0m\n",
      "\u001b[1m[\u001b[0m\u001b[34;49mnotice\u001b[0m\u001b[1;39;49m]\u001b[0m\u001b[39;49m To update, run: \u001b[0m\u001b[32;49mpip install --upgrade pip\u001b[0m\n",
      "\n",
      "\u001b[1m[\u001b[0m\u001b[34;49mnotice\u001b[0m\u001b[1;39;49m]\u001b[0m\u001b[39;49m A new release of pip is available: \u001b[0m\u001b[31;49m23.2.1\u001b[0m\u001b[39;49m -> \u001b[0m\u001b[32;49m24.0\u001b[0m\n",
      "\u001b[1m[\u001b[0m\u001b[34;49mnotice\u001b[0m\u001b[1;39;49m]\u001b[0m\u001b[39;49m To update, run: \u001b[0m\u001b[32;49mpip install --upgrade pip\u001b[0m\n",
      "\n",
      "\u001b[1m[\u001b[0m\u001b[34;49mnotice\u001b[0m\u001b[1;39;49m]\u001b[0m\u001b[39;49m A new release of pip is available: \u001b[0m\u001b[31;49m23.2.1\u001b[0m\u001b[39;49m -> \u001b[0m\u001b[32;49m24.0\u001b[0m\n",
      "\u001b[1m[\u001b[0m\u001b[34;49mnotice\u001b[0m\u001b[1;39;49m]\u001b[0m\u001b[39;49m To update, run: \u001b[0m\u001b[32;49mpip install --upgrade pip\u001b[0m\n",
      "\n",
      "\u001b[1m[\u001b[0m\u001b[34;49mnotice\u001b[0m\u001b[1;39;49m]\u001b[0m\u001b[39;49m A new release of pip is available: \u001b[0m\u001b[31;49m23.2.1\u001b[0m\u001b[39;49m -> \u001b[0m\u001b[32;49m24.0\u001b[0m\n",
      "\u001b[1m[\u001b[0m\u001b[34;49mnotice\u001b[0m\u001b[1;39;49m]\u001b[0m\u001b[39;49m To update, run: \u001b[0m\u001b[32;49mpip install --upgrade pip\u001b[0m\n"
     ]
    }
   ],
   "source": [
    "!pip install -q llama-index-embeddings-huggingface\n",
    "!pip install -q llama-index llama-index-readers-web\n",
    "!pip install -q llama-index-llms-groq\n",
    "!pip install -q llama-index"
   ]
  },
  {
   "cell_type": "code",
   "execution_count": 2,
   "id": "4f153ee6-3ebf-405c-b968-8c9215bdbe5f",
   "metadata": {},
   "outputs": [
    {
     "name": "stderr",
     "output_type": "stream",
     "text": [
      "/home/kim/miniconda3/lib/python3.9/site-packages/tqdm/auto.py:21: TqdmWarning: IProgress not found. Please update jupyter and ipywidgets. See https://ipywidgets.readthedocs.io/en/stable/user_install.html\n",
      "  from .autonotebook import tqdm as notebook_tqdm\n"
     ]
    }
   ],
   "source": [
    "from llama_index.core import VectorStoreIndex\n",
    "from llama_index.readers.web import SimpleWebPageReader\n",
    "from llama_index.embeddings.huggingface import HuggingFaceEmbedding\n",
    "from llama_index.llms.groq import Groq\n",
    "from llama_index.core.node_parser import SentenceSplitter\n",
    "import os\n",
    "from llama_index.core import Settings"
   ]
  },
  {
   "cell_type": "markdown",
   "id": "43157408-6ecf-4002-a43e-0624535b3fa4",
   "metadata": {},
   "source": [
    "### 1. Read websites"
   ]
  },
  {
   "cell_type": "code",
   "execution_count": 3,
   "id": "3dfcceec-e877-4cb6-a440-01366cd71a5e",
   "metadata": {},
   "outputs": [],
   "source": [
    "documents = SimpleWebPageReader(html_to_text=True).load_data(\n",
    "    [\"https://docs.llamaindex.ai/en/stable/\", \"https://docs.llamaindex.ai/en/stable/getting_started/concepts/\"]\n",
    ")"
   ]
  },
  {
   "cell_type": "code",
   "execution_count": null,
   "id": "d67b4699-771c-49f3-97b6-89dfbe0c7dc2",
   "metadata": {},
   "outputs": [],
   "source": []
  },
  {
   "cell_type": "code",
   "execution_count": 4,
   "id": "3da28f86-d701-4134-b0c1-72a3ca56d5de",
   "metadata": {
    "scrolled": true
   },
   "outputs": [
    {
     "name": "stderr",
     "output_type": "stream",
     "text": [
      "/home/kim/miniconda3/lib/python3.9/site-packages/huggingface_hub/file_download.py:1132: FutureWarning: `resume_download` is deprecated and will be removed in version 1.0.0. Downloads always resume when possible. If you want to force a new download, use `force_download=True`.\n",
      "  warnings.warn(\n"
     ]
    }
   ],
   "source": [
    "llm = Groq(model=\"llama3-8b-8192\", api_key=os.environ['GROQ_API_KEY'])\n",
    "embed_model = HuggingFaceEmbedding(model_name=\"BAAI/bge-small-en-v1.5\")"
   ]
  },
  {
   "cell_type": "markdown",
   "id": "2bfb504a-e4bf-4fec-bcfa-21c7a5b7bf51",
   "metadata": {},
   "source": [
    "Test Llama3 response"
   ]
  },
  {
   "cell_type": "code",
   "execution_count": 5,
   "id": "6c088684-76b7-4995-9a0b-5c158cce3e99",
   "metadata": {},
   "outputs": [
    {
     "name": "stdout",
     "output_type": "stream",
     "text": [
      "A simple but interesting question!\n",
      "\n",
      "\"Rag\" can have different meanings depending on the context. Here are a few possible interpretations:\n",
      "\n",
      "1. **Clothing**: A rag is a piece of cloth, often a scrap or a remnant of fabric, that is used for cleaning or wiping surfaces. It can also refer to a piece of clothing, such as a rag doll or a rag rug.\n",
      "2. **Music**: In jazz and blues music, a \"rag\" refers to a type of musical composition characterized by complex rhythms and syncopated melodies. Ragtime music originated in the early 20th century and is often associated with pianists like Scott Joplin and Eubie Blake.\n",
      "3. **Slang**: In informal contexts, \"rag\" can be used as a slang term to refer to a person, often in a derogatory or playful manner. For example, \"What a rag you are!\" (meaning \"What a silly person you are!\")\n",
      "4. **Other meanings**: In various contexts, \"rag\" can also refer to a newspaper or magazine (e.g., \"The Rag\" is a student-run newspaper), a type of fabric or textile (e.g., \"rag wool\"), or even a type of plant (e.g., \"ragweed\").\n",
      "\n",
      "I hope this helps clarify the different meanings of \"rag\"!\n"
     ]
    }
   ],
   "source": [
    "print(llm.complete(\"What is rag?\"))"
   ]
  },
  {
   "cell_type": "markdown",
   "id": "b58bce19-e8c7-4006-b822-cffb49fd68b7",
   "metadata": {},
   "source": [
    "### 2. Set the LLM, Embedding, configs,..."
   ]
  },
  {
   "cell_type": "code",
   "execution_count": 6,
   "id": "3bee5e51-00a7-4f11-9bf5-f2cbc377ab00",
   "metadata": {},
   "outputs": [],
   "source": [
    "Settings.llm = llm\n",
    "Settings.embed_model = embed_model\n",
    "Settings.text_splitter = SentenceSplitter(chunk_size=1024)\n",
    "Settings.chunk_size = 512\n",
    "Settings.chunk_overlap = 20\n",
    "Settings.transformations = [SentenceSplitter(chunk_size=1024)]\n",
    "\n",
    "# maximum input size to the LLM\n",
    "Settings.context_window = 3500\n",
    "# number of tokens reserved for text generation.\n",
    "Settings.num_output = 512"
   ]
  },
  {
   "cell_type": "markdown",
   "id": "b24e46aa-7866-4fa1-9d3c-257837e4dbd7",
   "metadata": {},
   "source": [
    "### 3. Index documents"
   ]
  },
  {
   "cell_type": "code",
   "execution_count": 7,
   "id": "d8737388-4dac-4a3b-8137-975e13e8e327",
   "metadata": {},
   "outputs": [
    {
     "name": "stderr",
     "output_type": "stream",
     "text": [
      "Parsing nodes: 100%|████████████████████████████████████████████████████████████████████████████████████████████████████████████████████████████████████████████████████████████████████████████████████████████| 2/2 [00:00<00:00,  5.81it/s]\n",
      "Generating embeddings: 100%|██████████████████████████████████████████████████████████████████████████████████████████████████████████████████████████████████████████████████████████████████████████████████| 74/74 [00:25<00:00,  2.86it/s]\n"
     ]
    }
   ],
   "source": [
    "vector_index = VectorStoreIndex.from_documents(documents, show_progress=True)"
   ]
  },
  {
   "cell_type": "markdown",
   "id": "25caa6c3-a7d3-49f2-a448-873f93d175af",
   "metadata": {},
   "source": [
    "### 4. Test query"
   ]
  },
  {
   "cell_type": "code",
   "execution_count": 8,
   "id": "f1ff25af-7cfd-4bd1-a8b5-e1e8575a004b",
   "metadata": {},
   "outputs": [],
   "source": [
    "query_engine = vector_index.as_query_engine(similarity_top_k=5,)"
   ]
  },
  {
   "cell_type": "code",
   "execution_count": 9,
   "id": "cbebe384-128a-4f59-a21d-033c088f5aa6",
   "metadata": {},
   "outputs": [
    {
     "name": "stdout",
     "output_type": "stream",
     "text": [
      "Retrieval Augmented Generation (RAG) is a high-level concept that refers to the process of using a retrieval-based approach to generate text.\n"
     ]
    }
   ],
   "source": [
    "print(query_engine.query(\"What is rag?\"))"
   ]
  },
  {
   "cell_type": "code",
   "execution_count": null,
   "id": "22ccb46b-9aec-4347-b8b7-d02d26478a42",
   "metadata": {},
   "outputs": [],
   "source": []
  },
  {
   "cell_type": "code",
   "execution_count": null,
   "id": "29399053-a9b2-4e81-8cbb-ef1a7d2ca24c",
   "metadata": {},
   "outputs": [],
   "source": []
  }
 ],
 "metadata": {
  "kernelspec": {
   "display_name": "Python 3 (ipykernel)",
   "language": "python",
   "name": "python3"
  },
  "language_info": {
   "codemirror_mode": {
    "name": "ipython",
    "version": 3
   },
   "file_extension": ".py",
   "mimetype": "text/x-python",
   "name": "python",
   "nbconvert_exporter": "python",
   "pygments_lexer": "ipython3",
   "version": "3.9.18"
  }
 },
 "nbformat": 4,
 "nbformat_minor": 5
}
