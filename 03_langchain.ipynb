{
 "cells": [
  {
   "cell_type": "code",
   "execution_count": 1,
   "id": "9a1cbfe1-14fa-40ec-ba41-5142a5683902",
   "metadata": {},
   "outputs": [
    {
     "name": "stdout",
     "output_type": "stream",
     "text": [
      "\n",
      "\u001b[1m[\u001b[0m\u001b[34;49mnotice\u001b[0m\u001b[1;39;49m]\u001b[0m\u001b[39;49m A new release of pip is available: \u001b[0m\u001b[31;49m23.2.1\u001b[0m\u001b[39;49m -> \u001b[0m\u001b[32;49m24.0\u001b[0m\n",
      "\u001b[1m[\u001b[0m\u001b[34;49mnotice\u001b[0m\u001b[1;39;49m]\u001b[0m\u001b[39;49m To update, run: \u001b[0m\u001b[32;49mpip install --upgrade pip\u001b[0m\n",
      "\n",
      "\u001b[1m[\u001b[0m\u001b[34;49mnotice\u001b[0m\u001b[1;39;49m]\u001b[0m\u001b[39;49m A new release of pip is available: \u001b[0m\u001b[31;49m23.2.1\u001b[0m\u001b[39;49m -> \u001b[0m\u001b[32;49m24.0\u001b[0m\n",
      "\u001b[1m[\u001b[0m\u001b[34;49mnotice\u001b[0m\u001b[1;39;49m]\u001b[0m\u001b[39;49m To update, run: \u001b[0m\u001b[32;49mpip install --upgrade pip\u001b[0m\n"
     ]
    }
   ],
   "source": [
    "!pip install -q langchain-groq\n",
    "!pip install -q langchain"
   ]
  },
  {
   "cell_type": "code",
   "execution_count": 2,
   "id": "a8f22825-22b5-4394-9630-ac77722db6d3",
   "metadata": {},
   "outputs": [],
   "source": [
    "from langchain_core.prompts import ChatPromptTemplate\n",
    "from langchain_groq import ChatGroq\n",
    "import os"
   ]
  },
  {
   "cell_type": "code",
   "execution_count": 3,
   "id": "6b864b05-3672-4956-93fa-1f9fc657f400",
   "metadata": {},
   "outputs": [],
   "source": [
    "chat = ChatGroq(groq_api_key=os.environ['GROQ_API_KEY'], model_name=\"llama3-8b-8192\")"
   ]
  },
  {
   "cell_type": "code",
   "execution_count": 6,
   "id": "7239abdc-df95-4a73-8cbe-29f03cd85472",
   "metadata": {},
   "outputs": [],
   "source": [
    "response = chat.invoke(\"Explain the importance of fast language models\")"
   ]
  },
  {
   "cell_type": "code",
   "execution_count": 8,
   "id": "43856a85-3dd4-4476-bc03-aa283cb7893b",
   "metadata": {},
   "outputs": [
    {
     "name": "stdout",
     "output_type": "stream",
     "text": [
      "Fast language models have gained significant attention in the field of natural language processing (NLP) in recent years, and for good reason. Here are some reasons why fast language models are important:\n",
      "\n",
      "1. **Efficiency**: Fast language models can process large amounts of text data much faster than traditional models, making them ideal for applications where speed is crucial, such as chatbots, virtual assistants, and real-time language translation.\n",
      "2. **Scalability**: Fast language models can handle large volumes of data and scale up to meet the demands of large-scale applications, such as search engines, social media, and email clients.\n",
      "3. **Improved performance**: Fast language models can achieve better performance on certain tasks, such as language translation, text classification, and sentiment analysis, due to their ability to process text quickly and efficiently.\n",
      "4. **Real-time applications**: Fast language models are essential for real-time applications, such as:\n",
      "\t* Chatbots: Fast language models enable chatbots to respond quickly to user queries and provide immediate assistance.\n",
      "\t* Virtual assistants: Fast language models enable virtual assistants to quickly understand and respond to voice commands.\n",
      "\t* Real-time translation: Fast language models enable real-time translation of languages, facilitating global communication.\n",
      "5. **Edge computing**: Fast language models can run on edge devices, such as smartwatches, smart home devices, and autonomous vehicles, where processing power and memory are limited.\n",
      "6. **Reduced latency**: Fast language models can reduce latency in applications, such as:\n",
      "\t* Predictive text: Fast language models enable predictive text to anticipate and complete user input quickly.\n",
      "\t* Auto-complete: Fast language models enable auto-complete features to quickly suggest possible completions.\n",
      "7. **Increased accessibility**: Fast language models can enable language processing for people with disabilities, such as those with speech or hearing impairments, by providing real-time language translation and assistance.\n",
      "8. **Business applications**: Fast language models can benefit businesses by:\n",
      "\t* Improving customer service: Fast language models enable companies to respond quickly to customer inquiries and provide personalized support.\n",
      "\t* Enhancing marketing: Fast language models enable marketers to analyze customer feedback and sentiment analysis in real-time.\n",
      "\n",
      "In summary, fast language models are crucial for applications that require speed, scalability, and performance. They enable real-time language processing, improved performance, and increased accessibility, making them essential for a wide range of industries and applications.\n"
     ]
    }
   ],
   "source": [
    "print(response.content)"
   ]
  },
  {
   "cell_type": "code",
   "execution_count": 9,
   "id": "9ecd7d2a-6ab5-46f1-a6fc-5d553ab4c563",
   "metadata": {},
   "outputs": [
    {
     "name": "stdout",
     "output_type": "stream",
     "text": [
      "Fast language models have become increasingly important in recent years due to their potential to revolutionize various applications and industries. Here are some reasons why:\n",
      "\n",
      "1. **Efficient processing**: Fast language models can process large amounts of text data much faster than traditional methods, making them ideal for applications where speed and scalability are crucial.\n",
      "2. **Improved accuracy**: By processing more data in less time, fast language models can achieve higher accuracy in tasks like language translation, sentiment analysis, and text classification.\n",
      "3. **Real-time processing**: Fast language models enable real-time processing of text data, which is essential for applications like chatbots, virtual assistants, and social media monitoring.\n",
      "4. **Enhanced user experience**: Fast language models can power applications that require quick responses, such as customer service chatbots, voice assistants, and instant messaging platforms.\n",
      "5. **Scalability**: Fast language models can handle large volumes of text data, making them suitable for applications like social media monitoring, sentiment analysis, and text classification.\n",
      "6. **Advanced analytics**: Fast language models can analyze vast amounts of text data quickly, enabling applications like opinion mining, trend analysis, and predictive analytics.\n",
      "7. **Improved language understanding**: Fast language models can capture complex linguistic patterns and nuances, leading to better language understanding and more accurate results.\n",
      "8. **Enhanced search and retrieval**: Fast language models can quickly process large datasets, enabling faster and more accurate search and retrieval of text-based information.\n",
      "9. **Automated content creation**: Fast language models can generate text quickly, making them suitable for applications like content generation, article writing, and language translation.\n",
      "10. **Advancements in AI**: Fast language models are essential for the development of more advanced AI applications, such as natural language processing, machine translation, and human-computer interaction.\n",
      "\n",
      "Some examples of industries and applications that can benefit from fast language models include:\n",
      "\n",
      "1. **Chatbots and virtual assistants**: Fast language models can power conversational AI, enabling faster and more accurate responses.\n",
      "2. **Social media monitoring**: Fast language models can quickly analyze large volumes of social media data, enabling real-time sentiment analysis and trend identification.\n",
      "3. **Customer service**: Fast language models can be used to power customer service chatbots, enabling faster and more accurate responses to customer inquiries.\n",
      "4. **Content generation**: Fast language models can generate text quickly, making them suitable for applications like content generation, article writing, and language translation.\n",
      "5. **Healthcare and medical research**: Fast language models can quickly analyze large datasets of medical texts, enabling faster and more accurate analysis of medical research.\n",
      "\n",
      "In summary, fast language models have the potential to revolutionize various industries and applications by enabling faster, more accurate, and more efficient processing of large volumes of text data."
     ]
    }
   ],
   "source": [
    "stream = chat.stream(\"Explain the importance of fast language models\")\n",
    "for chunk in stream:\n",
    "    print(chunk.content, end=\"\", flush=True)"
   ]
  },
  {
   "cell_type": "code",
   "execution_count": null,
   "id": "81516957-f061-4ec8-bc1c-5fe6f35962fc",
   "metadata": {},
   "outputs": [],
   "source": []
  }
 ],
 "metadata": {
  "kernelspec": {
   "display_name": "Python 3 (ipykernel)",
   "language": "python",
   "name": "python3"
  },
  "language_info": {
   "codemirror_mode": {
    "name": "ipython",
    "version": 3
   },
   "file_extension": ".py",
   "mimetype": "text/x-python",
   "name": "python",
   "nbconvert_exporter": "python",
   "pygments_lexer": "ipython3",
   "version": "3.9.18"
  }
 },
 "nbformat": 4,
 "nbformat_minor": 5
}
