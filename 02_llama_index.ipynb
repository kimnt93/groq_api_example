{
 "cells": [
  {
   "cell_type": "code",
   "execution_count": 6,
   "id": "2ac565ae-344b-43d3-9537-bc751cb4f22a",
   "metadata": {},
   "outputs": [
    {
     "name": "stdout",
     "output_type": "stream",
     "text": [
      "\n",
      "\u001b[1m[\u001b[0m\u001b[34;49mnotice\u001b[0m\u001b[1;39;49m]\u001b[0m\u001b[39;49m A new release of pip is available: \u001b[0m\u001b[31;49m23.2.1\u001b[0m\u001b[39;49m -> \u001b[0m\u001b[32;49m24.0\u001b[0m\n",
      "\u001b[1m[\u001b[0m\u001b[34;49mnotice\u001b[0m\u001b[1;39;49m]\u001b[0m\u001b[39;49m To update, run: \u001b[0m\u001b[32;49mpip install --upgrade pip\u001b[0m\n",
      "\n",
      "\u001b[1m[\u001b[0m\u001b[34;49mnotice\u001b[0m\u001b[1;39;49m]\u001b[0m\u001b[39;49m A new release of pip is available: \u001b[0m\u001b[31;49m23.2.1\u001b[0m\u001b[39;49m -> \u001b[0m\u001b[32;49m24.0\u001b[0m\n",
      "\u001b[1m[\u001b[0m\u001b[34;49mnotice\u001b[0m\u001b[1;39;49m]\u001b[0m\u001b[39;49m To update, run: \u001b[0m\u001b[32;49mpip install --upgrade pip\u001b[0m\n"
     ]
    }
   ],
   "source": [
    "!pip install -q llama-index-llms-groq\n",
    "!pip install -q llama-index"
   ]
  },
  {
   "cell_type": "code",
   "execution_count": 7,
   "id": "4a4bf081-b3c4-4b47-bf89-21051041960e",
   "metadata": {},
   "outputs": [
    {
     "name": "stderr",
     "output_type": "stream",
     "text": [
      "/home/kim/miniconda3/lib/python3.9/site-packages/tqdm/auto.py:21: TqdmWarning: IProgress not found. Please update jupyter and ipywidgets. See https://ipywidgets.readthedocs.io/en/stable/user_install.html\n",
      "  from .autonotebook import tqdm as notebook_tqdm\n"
     ]
    }
   ],
   "source": [
    "from llama_index.llms.groq import Groq\n",
    "from IPython.display import Markdown, display\n",
    "import os"
   ]
  },
  {
   "cell_type": "code",
   "execution_count": 8,
   "id": "28b293cd-1b33-48f5-842b-4cadd57756c2",
   "metadata": {},
   "outputs": [],
   "source": [
    "llm = Groq(model=\"llama3-8b-8192\", api_key=os.environ['GROQ_API_KEY'])"
   ]
  },
  {
   "cell_type": "code",
   "execution_count": 9,
   "id": "8e6e2033-24de-4a3c-85a9-c97dce7b0cee",
   "metadata": {},
   "outputs": [],
   "source": [
    "response = llm.complete(\"Explain the importance of fast language models\")"
   ]
  },
  {
   "cell_type": "code",
   "execution_count": 13,
   "id": "12b1e940-893d-4240-b927-929c58fdd118",
   "metadata": {},
   "outputs": [
    {
     "data": {
      "text/markdown": [
       "Fast language models have gained significant attention in recent years due to their ability to process and generate human-like text quickly and efficiently. Here are some reasons why fast language models are important:\n",
       "\n",
       "1. **Speed and Efficiency**: Fast language models can process and generate text at a much faster rate than traditional language models. This is particularly important in applications where speed and efficiency are crucial, such as chatbots, virtual assistants, and natural language processing (NLP) systems.\n",
       "2. **Scalability**: Fast language models can handle large volumes of text data and scale to meet the demands of modern applications. This is essential for applications that require processing and generating text at scale, such as social media platforms, online forums, and customer service chatbots.\n",
       "3. **Real-time Processing**: Fast language models enable real-time processing and generation of text, which is critical for applications that require immediate responses, such as customer service, emergency services, and real-time language translation.\n",
       "4. **Improved User Experience**: Fast language models can provide a better user experience by enabling faster and more accurate responses to user queries. This is particularly important in applications where users expect quick and relevant responses, such as search engines, recommendation systems, and language translation apps.\n",
       "5. **Increased Accuracy**: Fast language models can be trained on large datasets and fine-tuned for specific tasks, leading to increased accuracy and better performance. This is particularly important in applications where accuracy is critical, such as medical diagnosis, financial transactions, and language translation.\n",
       "6. **Cost-Effective**: Fast language models can be more cost-effective than traditional language models, as they require less computational resources and can be trained on smaller datasets. This is particularly important for organizations with limited budgets or resources.\n",
       "7. **Advancements in NLP**: Fast language models have driven advancements in NLP, enabling researchers and developers to explore new applications and use cases. This has led to breakthroughs in areas such as machine translation, sentiment analysis, and text summarization.\n",
       "8. **Improved Accessibility**: Fast language models can improve accessibility for individuals with disabilities, such as those with speech or language impairments. This is particularly important in applications where accessibility is critical, such as education, healthcare, and employment.\n",
       "9. **Enhanced Creativity**: Fast language models can generate creative and innovative text, which is essential for applications such as content generation, writing assistance, and creative writing.\n",
       "10. **Future-Proofing**: Fast language models are future-proofing NLP by enabling the development of more advanced and sophisticated language processing capabilities. This is particularly important in an era where AI and NLP are becoming increasingly important in various industries and applications.\n",
       "\n",
       "In summary, fast language models are important because they enable faster, more accurate, and more efficient processing and generation of text. This has significant implications for a wide range of applications, from customer service and language translation to content generation and creative writing."
      ],
      "text/plain": [
       "<IPython.core.display.Markdown object>"
      ]
     },
     "metadata": {},
     "output_type": "display_data"
    }
   ],
   "source": [
    "display(Markdown(response.text))"
   ]
  },
  {
   "cell_type": "code",
   "execution_count": null,
   "id": "2836330a-a9e1-437c-8bb4-dca5821da937",
   "metadata": {},
   "outputs": [],
   "source": [
    "# streaming"
   ]
  },
  {
   "cell_type": "code",
   "execution_count": 14,
   "id": "a02ca94b-c883-4ace-a24f-dfa6474a7a0c",
   "metadata": {},
   "outputs": [],
   "source": [
    "response = llm.stream_complete(\"Explain the importance of fast language models\")"
   ]
  },
  {
   "cell_type": "code",
   "execution_count": 19,
   "id": "35b68ba4-4050-4949-9f9b-0f39fbc69c51",
   "metadata": {},
   "outputs": [
    {
     "name": "stdout",
     "output_type": "stream",
     "text": [
      "Improved Conversational AI**: Fast language models enable the development of more conversational AI systems that can understand and respond to user queries in a more natural and human-like manner. This is crucial for applications like virtual assistants, chatbots, and customer service platforms.\n",
      "2. **Enhanced Text Classification**: Fast language models can be used for text classification tasks, such as sentiment analysis, spam detection, and topic modeling. This can lead to more accurate and efficient decision-making in various industries, including finance, healthcare, and marketing.\n",
      "3. **Faster Language Translation**: Fast language models can accelerate the process of machine translation, enabling real-time translation of languages and facilitating global communication. This is particularly important for international businesses, governments, and individuals who need to communicate across language barriers.\n",
      "4. **Improved Sentiment Analysis**: Fast language models can analyze sentiment and emotions expressed in text data, providing insights into customer opinions, market trends, and public opinions. This can help businesses make data-driven decisions and improve their products and services.\n",
      "5. **Enhanced Information Retrieval**: Fast language models can improve information retrieval systems, enabling users to quickly find relevant information from vast amounts of text data. This is particularly important for applications like search engines, recommendation systems, and knowledge management systems.\n",
      "6. **Faster Language Learning**: Fast language models can be used to develop more effective language learning systems, enabling learners to improve their language skills more quickly and efficiently.\n",
      "7. **Improved Question Answering**: Fast language models can be used to develop more accurate question answering systems, enabling users to quickly find answers to their questions and improving the overall user experience.\n",
      "8. **Enhanced Summarization**: Fast language models can be used to develop more effective summarization systems, enabling users to quickly extract the most important information from large documents and articles.\n",
      "9. **Improved Dialogue Generation**: Fast language models can be used to develop more effective dialogue generation systems, enabling the creation of more natural and engaging conversations.\n",
      "10. **Advancements in AI Research**: Fast language models can accelerate research in AI and NLP, enabling scientists to explore new applications and improve existing ones. This can lead to breakthroughs in areas like computer vision, robotics, and autonomous systems.\n",
      "\n",
      "In summary, fast language models have the potential to revolutionize various aspects of NLP and AI, enabling the development of more conversational AI systems, improving text classification, and enhancing information retrieval, among other applications."
     ]
    }
   ],
   "source": [
    "for r in response:\n",
    "    print(r.delta, end=\"\")"
   ]
  }
 ],
 "metadata": {
  "kernelspec": {
   "display_name": "Python 3 (ipykernel)",
   "language": "python",
   "name": "python3"
  },
  "language_info": {
   "codemirror_mode": {
    "name": "ipython",
    "version": 3
   },
   "file_extension": ".py",
   "mimetype": "text/x-python",
   "name": "python",
   "nbconvert_exporter": "python",
   "pygments_lexer": "ipython3",
   "version": "3.9.18"
  }
 },
 "nbformat": 4,
 "nbformat_minor": 5
}
